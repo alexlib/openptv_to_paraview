{
 "cells": [
  {
   "cell_type": "code",
   "execution_count": 58,
   "metadata": {},
   "outputs": [],
   "source": [
    "# Example notebook writing OpenPTV files for Paraview"
   ]
  },
  {
   "cell_type": "code",
   "execution_count": 59,
   "metadata": {},
   "outputs": [],
   "source": [
    "import numpy as np\n",
    "import scipy\n",
    "from flowtracks.io import trajectories_ptvis"
   ]
  },
  {
   "cell_type": "code",
   "execution_count": 60,
   "metadata": {},
   "outputs": [],
   "source": [
    "dataset = trajectories_ptvis('/home/user/Downloads/ptv_is_for_paraview/ptv_is.%d',xuap=False)"
   ]
  },
  {
   "cell_type": "code",
   "execution_count": 61,
   "metadata": {},
   "outputs": [
    {
     "data": {
      "text/plain": [
       "7362"
      ]
     },
     "execution_count": 61,
     "metadata": {},
     "output_type": "execute_result"
    }
   ],
   "source": [
    "len(dataset)"
   ]
  },
  {
   "cell_type": "code",
   "execution_count": 62,
   "metadata": {},
   "outputs": [
    {
     "data": {
      "text/plain": [
       "(257,\n",
       " array([[ 0.016665,  0.026022, -0.009375],\n",
       "        [ 0.016737,  0.025983, -0.009735]]),\n",
       " array([[ 7.2e-05, -3.9e-05, -3.6e-04],\n",
       "        [ 0.0e+00,  0.0e+00,  0.0e+00]]),\n",
       " array([100001., 100002.]))"
      ]
     },
     "execution_count": 62,
     "metadata": {},
     "output_type": "execute_result"
    }
   ],
   "source": [
    "dataset[0].trajid(), dataset[0].pos(), dataset[0].velocity(), dataset[0].time()"
   ]
  },
  {
   "cell_type": "code",
   "execution_count": 63,
   "metadata": {},
   "outputs": [
    {
     "data": {
      "text/plain": [
       "array([100001., 100002.])"
      ]
     },
     "execution_count": 63,
     "metadata": {},
     "output_type": "execute_result"
    }
   ],
   "source": [
    "dataset[0].time()"
   ]
  },
  {
   "cell_type": "code",
   "execution_count": 64,
   "metadata": {},
   "outputs": [],
   "source": [
    "import pandas as pd"
   ]
  },
  {
   "cell_type": "code",
   "execution_count": 65,
   "metadata": {},
   "outputs": [],
   "source": [
    "dataframes = []\n",
    "for traj in dataset:\n",
    "    dataframes.append(pd.DataFrame.from_records(traj,columns=['x','y','z','Vx','Vy','Vz','frame','Particle']))"
   ]
  },
  {
   "cell_type": "code",
   "execution_count": 66,
   "metadata": {},
   "outputs": [],
   "source": [
    "df = pd.concat(dataframes,ignore_index=True)"
   ]
  },
  {
   "cell_type": "code",
   "execution_count": 67,
   "metadata": {},
   "outputs": [
    {
     "data": {
      "text/plain": [
       "7362"
      ]
     },
     "execution_count": 67,
     "metadata": {},
     "output_type": "execute_result"
    }
   ],
   "source": [
    "# number of trajectories or particles\n",
    "len(df.groupby('Particle'))"
   ]
  },
  {
   "cell_type": "code",
   "execution_count": 68,
   "metadata": {},
   "outputs": [
    {
     "data": {
      "text/plain": [
       "299"
      ]
     },
     "execution_count": 68,
     "metadata": {},
     "output_type": "execute_result"
    }
   ],
   "source": [
    "# number of frames\n",
    "len(df.groupby('frame'))"
   ]
  },
  {
   "cell_type": "code",
   "execution_count": 69,
   "metadata": {},
   "outputs": [],
   "source": [
    "df['Particle'] = df['Particle'].astype(np.int32)\n",
    "df['frame'] = df['frame'].astype(np.int32) - 100000"
   ]
  },
  {
   "cell_type": "code",
   "execution_count": 70,
   "metadata": {},
   "outputs": [
    {
     "data": {
      "text/html": [
       "<div>\n",
       "<style scoped>\n",
       "    .dataframe tbody tr th:only-of-type {\n",
       "        vertical-align: middle;\n",
       "    }\n",
       "\n",
       "    .dataframe tbody tr th {\n",
       "        vertical-align: top;\n",
       "    }\n",
       "\n",
       "    .dataframe thead th {\n",
       "        text-align: right;\n",
       "    }\n",
       "</style>\n",
       "<table border=\"1\" class=\"dataframe\">\n",
       "  <thead>\n",
       "    <tr style=\"text-align: right;\">\n",
       "      <th></th>\n",
       "      <th>x</th>\n",
       "      <th>y</th>\n",
       "      <th>z</th>\n",
       "      <th>Vx</th>\n",
       "      <th>Vy</th>\n",
       "      <th>Vz</th>\n",
       "      <th>frame</th>\n",
       "      <th>Particle</th>\n",
       "    </tr>\n",
       "  </thead>\n",
       "  <tbody>\n",
       "    <tr>\n",
       "      <th>0</th>\n",
       "      <td>0.016665</td>\n",
       "      <td>0.026022</td>\n",
       "      <td>-0.009375</td>\n",
       "      <td>0.000072</td>\n",
       "      <td>-0.000039</td>\n",
       "      <td>-0.000360</td>\n",
       "      <td>1</td>\n",
       "      <td>257</td>\n",
       "    </tr>\n",
       "    <tr>\n",
       "      <th>1</th>\n",
       "      <td>0.016737</td>\n",
       "      <td>0.025983</td>\n",
       "      <td>-0.009735</td>\n",
       "      <td>0.000000</td>\n",
       "      <td>0.000000</td>\n",
       "      <td>0.000000</td>\n",
       "      <td>2</td>\n",
       "      <td>257</td>\n",
       "    </tr>\n",
       "    <tr>\n",
       "      <th>2</th>\n",
       "      <td>0.014837</td>\n",
       "      <td>0.006735</td>\n",
       "      <td>0.019869</td>\n",
       "      <td>0.000144</td>\n",
       "      <td>0.000170</td>\n",
       "      <td>0.000436</td>\n",
       "      <td>1</td>\n",
       "      <td>364</td>\n",
       "    </tr>\n",
       "    <tr>\n",
       "      <th>3</th>\n",
       "      <td>0.014981</td>\n",
       "      <td>0.006905</td>\n",
       "      <td>0.020305</td>\n",
       "      <td>0.000000</td>\n",
       "      <td>0.000000</td>\n",
       "      <td>0.000000</td>\n",
       "      <td>2</td>\n",
       "      <td>364</td>\n",
       "    </tr>\n",
       "    <tr>\n",
       "      <th>4</th>\n",
       "      <td>-0.004121</td>\n",
       "      <td>-0.003949</td>\n",
       "      <td>0.013279</td>\n",
       "      <td>0.000077</td>\n",
       "      <td>0.000142</td>\n",
       "      <td>0.000191</td>\n",
       "      <td>1</td>\n",
       "      <td>187</td>\n",
       "    </tr>\n",
       "  </tbody>\n",
       "</table>\n",
       "</div>"
      ],
      "text/plain": [
       "          x         y         z        Vx        Vy        Vz  frame  Particle\n",
       "0  0.016665  0.026022 -0.009375  0.000072 -0.000039 -0.000360      1       257\n",
       "1  0.016737  0.025983 -0.009735  0.000000  0.000000  0.000000      2       257\n",
       "2  0.014837  0.006735  0.019869  0.000144  0.000170  0.000436      1       364\n",
       "3  0.014981  0.006905  0.020305  0.000000  0.000000  0.000000      2       364\n",
       "4 -0.004121 -0.003949  0.013279  0.000077  0.000142  0.000191      1       187"
      ]
     },
     "execution_count": 70,
     "metadata": {},
     "output_type": "execute_result"
    }
   ],
   "source": [
    "df.reset_index(inplace=True, drop=True)\n",
    "df.head()"
   ]
  },
  {
   "cell_type": "code",
   "execution_count": 71,
   "metadata": {},
   "outputs": [],
   "source": [
    "df_grouped = df.reset_index().groupby('frame')\n",
    "for index, group in df_grouped:\n",
    "    group.to_csv(f'./output/ptv_{int(index):06d}.txt',mode='w',columns=['Particle','x','y','z','Vx','Vy','Vz'], index=False)"
   ]
  },
  {
   "cell_type": "code",
   "execution_count": null,
   "metadata": {},
   "outputs": [],
   "source": []
  },
  {
   "cell_type": "code",
   "execution_count": null,
   "metadata": {},
   "outputs": [],
   "source": []
  }
 ],
 "metadata": {
  "kernelspec": {
   "display_name": "Python 3.8.12 64-bit",
   "language": "python",
   "name": "python3"
  },
  "language_info": {
   "codemirror_mode": {
    "name": "ipython",
    "version": 3
   },
   "file_extension": ".py",
   "mimetype": "text/x-python",
   "name": "python",
   "nbconvert_exporter": "python",
   "pygments_lexer": "ipython3",
   "version": "3.8.12"
  },
  "orig_nbformat": 4,
  "vscode": {
   "interpreter": {
    "hash": "75148f080617458a1ba56d7d89b6300233298dfe8336d473e7d1ff1c08ecf7dd"
   }
  }
 },
 "nbformat": 4,
 "nbformat_minor": 2
}
