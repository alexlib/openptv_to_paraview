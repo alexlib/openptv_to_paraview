{
 "cells": [
  {
   "cell_type": "markdown",
   "metadata": {},
   "source": [
    "# Example notebook translating OpenPTV files for Paraview using flowtracks"
   ]
  },
  {
   "cell_type": "code",
   "execution_count": 8,
   "metadata": {},
   "outputs": [],
   "source": [
    "import numpy as np\n",
    "import scipy\n",
    "import pandas as pd\n",
    "from flowtracks.io import trajectories_ptvis"
   ]
  },
  {
   "cell_type": "code",
   "execution_count": 9,
   "metadata": {},
   "outputs": [],
   "source": [
    "dataset = trajectories_ptvis('./openptv_results/ptv_is.%d',xuap=False)"
   ]
  },
  {
   "cell_type": "code",
   "execution_count": 10,
   "metadata": {},
   "outputs": [],
   "source": [
    "dataframes = []\n",
    "for traj in dataset:\n",
    "    dataframes.append(\n",
    "        pd.DataFrame.from_records(\n",
    "            traj,\n",
    "            columns=['x','y','z','Vx','Vy','Vz','frame','Particle']\n",
    "        )\n",
    "    )"
   ]
  },
  {
   "cell_type": "code",
   "execution_count": 11,
   "metadata": {},
   "outputs": [],
   "source": [
    "df = pd.concat(dataframes,ignore_index=True)"
   ]
  },
  {
   "cell_type": "code",
   "execution_count": 12,
   "metadata": {},
   "outputs": [],
   "source": [
    "df['Particle'] = df['Particle'].astype(np.int32)\n",
    "\n",
    "# Paraview does not recognize it as a set without _000001.txt, so we the first 10000\n",
    "# ptv_is.10001 is becoming ptv_00001.txt\n",
    "\n",
    "df['frame'] = df['frame'].astype(np.int32) - 10000"
   ]
  },
  {
   "cell_type": "code",
   "execution_count": 13,
   "metadata": {},
   "outputs": [
    {
     "data": {
      "text/html": [
       "<div>\n",
       "<style scoped>\n",
       "    .dataframe tbody tr th:only-of-type {\n",
       "        vertical-align: middle;\n",
       "    }\n",
       "\n",
       "    .dataframe tbody tr th {\n",
       "        vertical-align: top;\n",
       "    }\n",
       "\n",
       "    .dataframe thead th {\n",
       "        text-align: right;\n",
       "    }\n",
       "</style>\n",
       "<table border=\"1\" class=\"dataframe\">\n",
       "  <thead>\n",
       "    <tr style=\"text-align: right;\">\n",
       "      <th></th>\n",
       "      <th>x</th>\n",
       "      <th>y</th>\n",
       "      <th>z</th>\n",
       "      <th>Vx</th>\n",
       "      <th>Vy</th>\n",
       "      <th>Vz</th>\n",
       "      <th>frame</th>\n",
       "      <th>Particle</th>\n",
       "    </tr>\n",
       "  </thead>\n",
       "  <tbody>\n",
       "    <tr>\n",
       "      <th>0</th>\n",
       "      <td>-0.004908</td>\n",
       "      <td>0.000015</td>\n",
       "      <td>-0.069549</td>\n",
       "      <td>-0.000037</td>\n",
       "      <td>0.000186</td>\n",
       "      <td>-0.000242</td>\n",
       "      <td>1</td>\n",
       "      <td>26</td>\n",
       "    </tr>\n",
       "    <tr>\n",
       "      <th>1</th>\n",
       "      <td>-0.004945</td>\n",
       "      <td>0.000201</td>\n",
       "      <td>-0.069791</td>\n",
       "      <td>-0.000032</td>\n",
       "      <td>0.000157</td>\n",
       "      <td>-0.000173</td>\n",
       "      <td>2</td>\n",
       "      <td>26</td>\n",
       "    </tr>\n",
       "    <tr>\n",
       "      <th>2</th>\n",
       "      <td>-0.004977</td>\n",
       "      <td>0.000358</td>\n",
       "      <td>-0.069964</td>\n",
       "      <td>0.000000</td>\n",
       "      <td>0.000000</td>\n",
       "      <td>0.000000</td>\n",
       "      <td>3</td>\n",
       "      <td>26</td>\n",
       "    </tr>\n",
       "    <tr>\n",
       "      <th>3</th>\n",
       "      <td>-0.005275</td>\n",
       "      <td>0.010814</td>\n",
       "      <td>-0.073490</td>\n",
       "      <td>-0.000026</td>\n",
       "      <td>-0.000033</td>\n",
       "      <td>-0.000105</td>\n",
       "      <td>1</td>\n",
       "      <td>252</td>\n",
       "    </tr>\n",
       "    <tr>\n",
       "      <th>4</th>\n",
       "      <td>-0.005301</td>\n",
       "      <td>0.010781</td>\n",
       "      <td>-0.073595</td>\n",
       "      <td>-0.000049</td>\n",
       "      <td>0.000010</td>\n",
       "      <td>-0.000150</td>\n",
       "      <td>2</td>\n",
       "      <td>252</td>\n",
       "    </tr>\n",
       "  </tbody>\n",
       "</table>\n",
       "</div>"
      ],
      "text/plain": [
       "          x         y         z        Vx        Vy        Vz  frame  Particle\n",
       "0 -0.004908  0.000015 -0.069549 -0.000037  0.000186 -0.000242      1        26\n",
       "1 -0.004945  0.000201 -0.069791 -0.000032  0.000157 -0.000173      2        26\n",
       "2 -0.004977  0.000358 -0.069964  0.000000  0.000000  0.000000      3        26\n",
       "3 -0.005275  0.010814 -0.073490 -0.000026 -0.000033 -0.000105      1       252\n",
       "4 -0.005301  0.010781 -0.073595 -0.000049  0.000010 -0.000150      2       252"
      ]
     },
     "execution_count": 13,
     "metadata": {},
     "output_type": "execute_result"
    }
   ],
   "source": [
    "df.reset_index(inplace=True, drop=True)\n",
    "df.head()"
   ]
  },
  {
   "cell_type": "code",
   "execution_count": 14,
   "metadata": {},
   "outputs": [],
   "source": [
    "df_grouped = df.reset_index().groupby('frame')\n",
    "for index, group in df_grouped:\n",
    "    group.to_csv(\n",
    "        f'./paraview_output/ptv_{int(index):05d}.txt',\n",
    "        mode='w',\n",
    "        columns=['Particle','x','y','z','Vx','Vy','Vz'], \n",
    "        index=False\n",
    "        )"
   ]
  }
 ],
 "metadata": {
  "kernelspec": {
   "display_name": "Python 3.8.12 64-bit",
   "language": "python",
   "name": "python3"
  },
  "language_info": {
   "codemirror_mode": {
    "name": "ipython",
    "version": 3
   },
   "file_extension": ".py",
   "mimetype": "text/x-python",
   "name": "python",
   "nbconvert_exporter": "python",
   "pygments_lexer": "ipython3",
   "version": "3.8.12"
  },
  "orig_nbformat": 4,
  "vscode": {
   "interpreter": {
    "hash": "75148f080617458a1ba56d7d89b6300233298dfe8336d473e7d1ff1c08ecf7dd"
   }
  }
 },
 "nbformat": 4,
 "nbformat_minor": 2
}
